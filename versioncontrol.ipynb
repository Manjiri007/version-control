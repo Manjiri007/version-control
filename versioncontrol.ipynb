# Ask the user for their name and favorite color
name = input("Enter your name: ")
favorite_color = input("Enter your favorite color: ")

# Print out the result in the specified format
print(f"{name}'s favorite color is {favorite_color}.")

