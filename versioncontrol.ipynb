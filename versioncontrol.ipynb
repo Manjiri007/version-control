# Ask the user for their name and favorite color
name = input("What's your name? ")
favorite_color = input("What's your favorite color? ")

# Print out the result in the specified format
print(f"{name}'s favorite color is {favorite_color}.")

